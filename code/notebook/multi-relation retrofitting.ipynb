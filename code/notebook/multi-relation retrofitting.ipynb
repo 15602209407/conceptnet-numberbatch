{
 "cells": [
  {
   "cell_type": "code",
   "execution_count": 1,
   "metadata": {
    "collapsed": true
   },
   "outputs": [],
   "source": [
    "# sciencey preamble\n",
    "%matplotlib inline\n",
    "import numpy as np\n",
    "import seaborn\n",
    "seaborn.set(rc={\"figure.figsize\": (15, 6)})\n",
    "\n",
    "def matshow(mat, **kwargs):\n",
    "    seaborn.heatmap(mat, square=True, xticklabels=50, yticklabels=50, **kwargs)"
   ]
  },
  {
   "cell_type": "code",
   "execution_count": 2,
   "metadata": {
    "collapsed": true
   },
   "outputs": [],
   "source": [
    "%load_ext autoreload"
   ]
  },
  {
   "cell_type": "code",
   "execution_count": 3,
   "metadata": {
    "collapsed": false
   },
   "outputs": [
    {
     "name": "stderr",
     "output_type": "stream",
     "text": [
      "/home/rspeer/.virtualenvs/lum3/lib/python3.5/site-packages/scikit_learn-0.16.1-py3.5-linux-x86_64.egg/sklearn/utils/fixes.py:64: DeprecationWarning: inspect.getargspec() is deprecated, use inspect.signature() instead\n",
      "  if 'order' in inspect.getargspec(np.copy)[0]:\n"
     ]
    }
   ],
   "source": [
    "from conceptnet_retrofitting.loaders import *\n",
    "from conceptnet_retrofitting.word_vectors import WordVectors\n",
    "from conceptnet_retrofitting.builders.build_assoc import build_relations_from_conceptnet\n",
    "from conceptnet_retrofitting.builders.label_set import LabelSet\n",
    "from conceptnet_retrofitting.builders.retrofit import relational_retrofit\n",
    "from conceptnet_retrofitting.loaders import load_sparse_relations, save_sparse_relations\n",
    "from sklearn.preprocessing import normalize"
   ]
  },
  {
   "cell_type": "code",
   "execution_count": 4,
   "metadata": {
    "collapsed": true
   },
   "outputs": [],
   "source": [
    "PATH = '../build-data/'"
   ]
  },
  {
   "cell_type": "code",
   "execution_count": 17,
   "metadata": {
    "collapsed": true
   },
   "outputs": [],
   "source": [
    "labels = LabelSet(load_labels(PATH + 'glove.840B.300d.standardized.labels'))"
   ]
  },
  {
   "cell_type": "code",
   "execution_count": 18,
   "metadata": {
    "collapsed": false
   },
   "outputs": [],
   "source": [
    "sparse_rels = build_relations_from_conceptnet(labels, '/wobbly/data/conceptnet5/assoc/reduced.csv')\n",
    "#save_sparse_relations(sparse_rels, PATH + 'glove.840B.300d.standardized.relations.npz')\n",
    "#sparse_rels = load_sparse_relations(PATH + 'glove.840B.300d.standardized.relations.npz')"
   ]
  },
  {
   "cell_type": "code",
   "execution_count": 19,
   "metadata": {
    "collapsed": true
   },
   "outputs": [],
   "source": [
    "save_labels(labels, PATH + 'multi-retrofit.labels')"
   ]
  },
  {
   "cell_type": "code",
   "execution_count": 7,
   "metadata": {
    "collapsed": false
   },
   "outputs": [
    {
     "data": {
      "text/plain": [
       "['/r/UsedFor/back',\n",
       " '/r/Causes/back',\n",
       " '/r/PartOf/back',\n",
       " '/r/AtLocation/back',\n",
       " '/r/Antonym',\n",
       " '/r/IsA/back',\n",
       " '/r/PartOf',\n",
       " '/r/HasSubevent',\n",
       " '/r/UsedFor',\n",
       " '/r/HasProperty',\n",
       " '/r/HasSubevent/back',\n",
       " '/r/AtLocation',\n",
       " '/r/HasProperty/back',\n",
       " '/r/IsA',\n",
       " '/r/Causes',\n",
       " '/r/RelatedTo']"
      ]
     },
     "execution_count": 7,
     "metadata": {},
     "output_type": "execute_result"
    }
   ],
   "source": [
    "list(sparse_rels)"
   ]
  },
  {
   "cell_type": "code",
   "execution_count": 8,
   "metadata": {
    "collapsed": true
   },
   "outputs": [],
   "source": [
    "glove = load_word_vectors(PATH + 'glove.840B.300d.standardized.labels', PATH + 'glove.840B.300d.l1.standardized.npy')"
   ]
  },
  {
   "cell_type": "code",
   "execution_count": 9,
   "metadata": {
    "collapsed": false
   },
   "outputs": [],
   "source": [
    "vecs = np.copy(glove.vectors).astype('f')\n",
    "del glove"
   ]
  },
  {
   "cell_type": "code",
   "execution_count": 10,
   "metadata": {
    "collapsed": false
   },
   "outputs": [
    {
     "name": "stdout",
     "output_type": "stream",
     "text": [
      "Iteration 1 of 5: /r/Antonym\n",
      "Iteration 1 of 5: /r/AtLocation\n",
      "Iteration 1 of 5: /r/AtLocation/back\n",
      "Iteration 1 of 5: /r/Causes\n",
      "Iteration 1 of 5: /r/Causes/back\n",
      "Iteration 1 of 5: /r/HasProperty\n",
      "Iteration 1 of 5: /r/HasProperty/back\n",
      "Iteration 1 of 5: /r/HasSubevent\n",
      "Iteration 1 of 5: /r/HasSubevent/back\n",
      "Iteration 1 of 5: /r/IsA\n",
      "Iteration 1 of 5: /r/IsA/back\n",
      "Iteration 1 of 5: /r/PartOf\n",
      "Iteration 1 of 5: /r/PartOf/back\n",
      "Iteration 1 of 5: /r/RelatedTo\n",
      "Iteration 1 of 5: /r/UsedFor\n",
      "Iteration 1 of 5: /r/UsedFor/back\n",
      "Iteration 2 of 5: /r/Antonym\n",
      "Iteration 2 of 5: /r/AtLocation\n",
      "Iteration 2 of 5: /r/AtLocation/back\n",
      "Iteration 2 of 5: /r/Causes\n",
      "Iteration 2 of 5: /r/Causes/back\n",
      "Iteration 2 of 5: /r/HasProperty\n",
      "Iteration 2 of 5: /r/HasProperty/back\n",
      "Iteration 2 of 5: /r/HasSubevent\n",
      "Iteration 2 of 5: /r/HasSubevent/back\n",
      "Iteration 2 of 5: /r/IsA\n",
      "Iteration 2 of 5: /r/IsA/back\n",
      "Iteration 2 of 5: /r/PartOf\n",
      "Iteration 2 of 5: /r/PartOf/back\n",
      "Iteration 2 of 5: /r/RelatedTo\n",
      "Iteration 2 of 5: /r/UsedFor\n",
      "Iteration 2 of 5: /r/UsedFor/back\n",
      "Iteration 3 of 5: /r/Antonym\n",
      "Iteration 3 of 5: /r/AtLocation\n",
      "Iteration 3 of 5: /r/AtLocation/back\n",
      "Iteration 3 of 5: /r/Causes\n",
      "Iteration 3 of 5: /r/Causes/back\n",
      "Iteration 3 of 5: /r/HasProperty\n",
      "Iteration 3 of 5: /r/HasProperty/back\n",
      "Iteration 3 of 5: /r/HasSubevent\n",
      "Iteration 3 of 5: /r/HasSubevent/back\n",
      "Iteration 3 of 5: /r/IsA\n",
      "Iteration 3 of 5: /r/IsA/back\n",
      "Iteration 3 of 5: /r/PartOf\n",
      "Iteration 3 of 5: /r/PartOf/back\n",
      "Iteration 3 of 5: /r/RelatedTo\n",
      "Iteration 3 of 5: /r/UsedFor\n",
      "Iteration 3 of 5: /r/UsedFor/back\n",
      "Iteration 4 of 5: /r/Antonym\n",
      "Iteration 4 of 5: /r/AtLocation\n",
      "Iteration 4 of 5: /r/AtLocation/back\n",
      "Iteration 4 of 5: /r/Causes\n",
      "Iteration 4 of 5: /r/Causes/back\n",
      "Iteration 4 of 5: /r/HasProperty\n",
      "Iteration 4 of 5: /r/HasProperty/back\n",
      "Iteration 4 of 5: /r/HasSubevent\n",
      "Iteration 4 of 5: /r/HasSubevent/back\n",
      "Iteration 4 of 5: /r/IsA\n",
      "Iteration 4 of 5: /r/IsA/back\n",
      "Iteration 4 of 5: /r/PartOf\n",
      "Iteration 4 of 5: /r/PartOf/back\n",
      "Iteration 4 of 5: /r/RelatedTo\n",
      "Iteration 4 of 5: /r/UsedFor\n",
      "Iteration 4 of 5: /r/UsedFor/back\n",
      "Iteration 5 of 5: /r/Antonym\n",
      "Iteration 5 of 5: /r/AtLocation\n",
      "Iteration 5 of 5: /r/AtLocation/back\n",
      "Iteration 5 of 5: /r/Causes\n",
      "Iteration 5 of 5: /r/Causes/back\n",
      "Iteration 5 of 5: /r/HasProperty\n",
      "Iteration 5 of 5: /r/HasProperty/back\n",
      "Iteration 5 of 5: /r/HasSubevent\n",
      "Iteration 5 of 5: /r/HasSubevent/back\n",
      "Iteration 5 of 5: /r/IsA\n",
      "Iteration 5 of 5: /r/IsA/back\n",
      "Iteration 5 of 5: /r/PartOf\n",
      "Iteration 5 of 5: /r/PartOf/back\n",
      "Iteration 5 of 5: /r/RelatedTo\n",
      "Iteration 5 of 5: /r/UsedFor\n",
      "Iteration 5 of 5: /r/UsedFor/back\n"
     ]
    }
   ],
   "source": [
    "refit = relational_retrofit(vecs, sparse_rels)"
   ]
  },
  {
   "cell_type": "code",
   "execution_count": 11,
   "metadata": {
    "collapsed": true
   },
   "outputs": [],
   "source": [
    "np.save(PATH + 'multi-retrofit.npy', refit)"
   ]
  },
  {
   "cell_type": "code",
   "execution_count": 16,
   "metadata": {
    "collapsed": false
   },
   "outputs": [
    {
     "data": {
      "text/plain": [
       "2392998"
      ]
     },
     "execution_count": 16,
     "metadata": {},
     "output_type": "execute_result"
    }
   ],
   "source": [
    "len(refit)"
   ]
  },
  {
   "cell_type": "code",
   "execution_count": 20,
   "metadata": {
    "collapsed": false
   },
   "outputs": [
    {
     "data": {
      "text/plain": [
       "2392998"
      ]
     },
     "execution_count": 20,
     "metadata": {},
     "output_type": "execute_result"
    }
   ],
   "source": [
    "len(labels)"
   ]
  },
  {
   "cell_type": "code",
   "execution_count": 21,
   "metadata": {
    "collapsed": false
   },
   "outputs": [],
   "source": [
    "wv = WordVectors(LabelSet(labels), refit)"
   ]
  },
  {
   "cell_type": "code",
   "execution_count": 22,
   "metadata": {
    "collapsed": true
   },
   "outputs": [],
   "source": [
    "def en_filter(term):\n",
    "    return term.startswith('/c/en/')"
   ]
  },
  {
   "cell_type": "code",
   "execution_count": 30,
   "metadata": {
    "collapsed": false
   },
   "outputs": [
    {
     "data": {
      "text/plain": [
       "[('/c/en/wallet', 0.99999988),\n",
       " ('/c/en/man_pocket', 0.98463947),\n",
       " ('/c/en/porte_monnaie', 0.97411484),\n",
       " ('/c/en/hold_money', 0.95521468),\n",
       " ('/c/en/carry_money', 0.9538222),\n",
       " ('/c/en/money_holder', 0.95029604),\n",
       " ('/c/en/pant_pocket', 0.94973493),\n",
       " ('/c/en/money_inside', 0.93585527),\n",
       " ('/c/en/billfold', 0.92133576),\n",
       " ('/c/en/your_money', 0.91677505),\n",
       " ('/c/en/keep_money', 0.8945784),\n",
       " ('/c/en/for_money', 0.89069146),\n",
       " ('/c/en/purse', 0.87530524),\n",
       " ('/c/en/coin_purse', 0.87440032),\n",
       " ('/c/en/purseful', 0.87071812),\n",
       " ('/c/en/pickpurse', 0.8396138),\n",
       " ('/c/en/for_men', 0.8310256),\n",
       " ('/c/en/handbag', 0.8013078),\n",
       " ('/c/en/back_pocket', 0.79220814),\n",
       " ('/c/en/scrippage', 0.79121876)]"
      ]
     },
     "execution_count": 30,
     "metadata": {},
     "output_type": "execute_result"
    }
   ],
   "source": [
    "wv.similar_to('/c/en/wallet', only=en_filter)"
   ]
  },
  {
   "cell_type": "code",
   "execution_count": null,
   "metadata": {
    "collapsed": true
   },
   "outputs": [],
   "source": []
  }
 ],
 "metadata": {
  "kernelspec": {
   "display_name": "Python 3",
   "language": "python",
   "name": "python3"
  },
  "language_info": {
   "codemirror_mode": {
    "name": "ipython",
    "version": 3
   },
   "file_extension": ".py",
   "mimetype": "text/x-python",
   "name": "python",
   "nbconvert_exporter": "python",
   "pygments_lexer": "ipython3",
   "version": "3.5.0"
  }
 },
 "nbformat": 4,
 "nbformat_minor": 0
}
