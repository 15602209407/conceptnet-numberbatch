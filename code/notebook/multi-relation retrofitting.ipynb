{
 "cells": [
  {
   "cell_type": "code",
   "execution_count": 3,
   "metadata": {
    "collapsed": true
   },
   "outputs": [],
   "source": [
    "# sciencey preamble\n",
    "%matplotlib inline\n",
    "import numpy as np\n",
    "import seaborn\n",
    "seaborn.set(rc={\"figure.figsize\": (15, 6)})\n",
    "\n",
    "def matshow(mat, **kwargs):\n",
    "    seaborn.heatmap(mat, square=True, xticklabels=50, yticklabels=50, **kwargs)"
   ]
  },
  {
   "cell_type": "code",
   "execution_count": 4,
   "metadata": {
    "collapsed": false
   },
   "outputs": [],
   "source": [
    "from conceptnet_retrofitting.loaders import *\n",
    "from conceptnet_retrofitting.word_vectors import WordVectors\n",
    "from conceptnet_retrofitting.builders.build_assoc import build_relations_from_conceptnet\n",
    "from conceptnet_retrofitting.builders.label_set import LabelSet\n",
    "from conceptnet_retrofitting.builders.retrofit import relational_retrofit\n",
    "from sklearn.preprocessing import normalize"
   ]
  },
  {
   "cell_type": "code",
   "execution_count": 5,
   "metadata": {
    "collapsed": true
   },
   "outputs": [],
   "source": [
    "PATH = '../build-data/'"
   ]
  },
  {
   "cell_type": "code",
   "execution_count": 6,
   "metadata": {
    "collapsed": true
   },
   "outputs": [],
   "source": [
    "labels = LabelSet(load_labels(PATH + 'glove.840B.300d.filtered.conceptnet5.labels'))"
   ]
  },
  {
   "cell_type": "code",
   "execution_count": 7,
   "metadata": {
    "collapsed": false
   },
   "outputs": [],
   "source": [
    "sparse_rels = build_relations_from_conceptnet(labels, '/wobbly/data/conceptnet5/assoc/reduced.csv')"
   ]
  },
  {
   "cell_type": "code",
   "execution_count": 8,
   "metadata": {
    "collapsed": true
   },
   "outputs": [],
   "source": [
    "glove = load_word_vectors(PATH + 'glove.840B.300d.filtered.conceptnet5.labels', PATH + 'glove.840B.300d.l1.filtered.conceptnet5.npy')"
   ]
  },
  {
   "cell_type": "code",
   "execution_count": 9,
   "metadata": {
    "collapsed": true
   },
   "outputs": [],
   "source": [
    "%load_ext autoreload"
   ]
  },
  {
   "cell_type": "code",
   "execution_count": 10,
   "metadata": {
    "collapsed": false
   },
   "outputs": [
    {
     "ename": "KeyError",
     "evalue": "0",
     "output_type": "error",
     "traceback": [
      "\u001b[1;31m---------------------------------------------------------------------------\u001b[0m",
      "\u001b[1;31mKeyError\u001b[0m                                  Traceback (most recent call last)",
      "\u001b[1;32m<ipython-input-10-e0980341d742>\u001b[0m in \u001b[0;36m<module>\u001b[1;34m()\u001b[0m\n\u001b[0;32m      1\u001b[0m \u001b[0mvecs\u001b[0m \u001b[1;33m=\u001b[0m \u001b[0mnp\u001b[0m\u001b[1;33m.\u001b[0m\u001b[0mcopy\u001b[0m\u001b[1;33m(\u001b[0m\u001b[0mglove\u001b[0m\u001b[1;33m.\u001b[0m\u001b[0mvectors\u001b[0m\u001b[1;33m)\u001b[0m\u001b[1;33m\u001b[0m\u001b[0m\n\u001b[1;32m----> 2\u001b[1;33m \u001b[0mrefit\u001b[0m \u001b[1;33m=\u001b[0m \u001b[0mrelational_retrofit\u001b[0m\u001b[1;33m(\u001b[0m\u001b[0mvecs\u001b[0m\u001b[1;33m,\u001b[0m \u001b[0msparse_rels\u001b[0m\u001b[1;33m)\u001b[0m\u001b[1;33m\u001b[0m\u001b[0m\n\u001b[0m",
      "\u001b[1;32m/media/rspeer/wobbly_data/code/conceptnet-retrofitting-paper/code/conceptnet_retrofitting/builders/retrofit.py\u001b[0m in \u001b[0;36mrelational_retrofit\u001b[1;34m(word_vecs, relations, iterations, verbose, orig_weight)\u001b[0m\n\u001b[0;32m     26\u001b[0m     \u001b[0maU\u001b[0m\u001b[1;33m,\u001b[0m \u001b[0maS\u001b[0m\u001b[1;33m,\u001b[0m \u001b[0maVt\u001b[0m \u001b[1;33m=\u001b[0m \u001b[0mnp\u001b[0m\u001b[1;33m.\u001b[0m\u001b[0mlinalg\u001b[0m\u001b[1;33m.\u001b[0m\u001b[0msvd\u001b[0m\u001b[1;33m(\u001b[0m\u001b[0mA\u001b[0m\u001b[1;33m,\u001b[0m \u001b[0mfull_matrices\u001b[0m\u001b[1;33m=\u001b[0m\u001b[1;32mFalse\u001b[0m\u001b[1;33m)\u001b[0m\u001b[1;33m\u001b[0m\u001b[0m\n\u001b[0;32m     27\u001b[0m     \u001b[0mbU\u001b[0m\u001b[1;33m,\u001b[0m \u001b[0mbS\u001b[0m\u001b[1;33m,\u001b[0m \u001b[0mbVt\u001b[0m \u001b[1;33m=\u001b[0m \u001b[0mnp\u001b[0m\u001b[1;33m.\u001b[0m\u001b[0mlinalg\u001b[0m\u001b[1;33m.\u001b[0m\u001b[0msvd\u001b[0m\u001b[1;33m(\u001b[0m\u001b[0mB\u001b[0m\u001b[1;33m,\u001b[0m \u001b[0mfull_matrices\u001b[0m\u001b[1;33m=\u001b[0m\u001b[1;32mFalse\u001b[0m\u001b[1;33m)\u001b[0m\u001b[1;33m\u001b[0m\u001b[0m\n\u001b[1;32m---> 28\u001b[1;33m     \u001b[1;32mreturn\u001b[0m \u001b[0maVt\u001b[0m\u001b[1;33m.\u001b[0m\u001b[0mT\u001b[0m \u001b[1;33m@\u001b[0m \u001b[1;33m(\u001b[0m\u001b[1;33m(\u001b[0m\u001b[0maU\u001b[0m\u001b[1;33m.\u001b[0m\u001b[0mT\u001b[0m \u001b[1;33m@\u001b[0m \u001b[0mbU\u001b[0m\u001b[1;33m)\u001b[0m \u001b[1;33m@\u001b[0m \u001b[0mbVt\u001b[0m\u001b[1;33m)\u001b[0m\u001b[1;33m\u001b[0m\u001b[0m\n\u001b[0m\u001b[0;32m     29\u001b[0m \u001b[1;33m\u001b[0m\u001b[0m\n\u001b[0;32m     30\u001b[0m \u001b[1;33m\u001b[0m\u001b[0m\n",
      "\u001b[1;31mKeyError\u001b[0m: 0"
     ]
    }
   ],
   "source": [
    "vecs = np.copy(glove.vectors)\n",
    "refit = relational_retrofit(vecs, sparse_rels)"
   ]
  },
  {
   "cell_type": "code",
   "execution_count": null,
   "metadata": {
    "collapsed": false
   },
   "outputs": [],
   "source": [
    "refit.shape"
   ]
  },
  {
   "cell_type": "code",
   "execution_count": null,
   "metadata": {
    "collapsed": false
   },
   "outputs": [],
   "source": [
    "np.save(PATH + 'multi-retrofit.npy', refit)"
   ]
  },
  {
   "cell_type": "code",
   "execution_count": null,
   "metadata": {
    "collapsed": false
   },
   "outputs": [],
   "source": [
    "len(labels)"
   ]
  },
  {
   "cell_type": "code",
   "execution_count": null,
   "metadata": {
    "collapsed": true
   },
   "outputs": [],
   "source": [
    "save_labels(labels, PATH + 'multi-retrofit.labels')"
   ]
  },
  {
   "cell_type": "code",
   "execution_count": 57,
   "metadata": {
    "collapsed": true
   },
   "outputs": [],
   "source": [
    "wv = WordVectors(labels, refit)"
   ]
  },
  {
   "cell_type": "code",
   "execution_count": 59,
   "metadata": {
    "collapsed": true
   },
   "outputs": [],
   "source": [
    "def en_filter(term):\n",
    "    return term.startswith('/c/en/')"
   ]
  },
  {
   "cell_type": "code",
   "execution_count": 107,
   "metadata": {
    "collapsed": true
   },
   "outputs": [],
   "source": [
    "rel_array = np.stack([item[2] for item in dense_rels], axis=0)"
   ]
  },
  {
   "cell_type": "code",
   "execution_count": 108,
   "metadata": {
    "collapsed": false
   },
   "outputs": [
    {
     "data": {
      "text/plain": [
       "(11, 300, 300)"
      ]
     },
     "execution_count": 108,
     "metadata": {},
     "output_type": "execute_result"
    }
   ],
   "source": [
    "rel_array.shape"
   ]
  },
  {
   "cell_type": "code",
   "execution_count": 110,
   "metadata": {
    "collapsed": true
   },
   "outputs": [],
   "source": [
    "np.save(PATH + 'relations.npy', rel_array)"
   ]
  },
  {
   "cell_type": "code",
   "execution_count": 111,
   "metadata": {
    "collapsed": true
   },
   "outputs": [],
   "source": [
    "rel_labels = [item[0] for item in dense_rels]"
   ]
  },
  {
   "cell_type": "code",
   "execution_count": 113,
   "metadata": {
    "collapsed": false
   },
   "outputs": [],
   "source": [
    "save_labels(rel_labels, PATH + 'relations.labels')"
   ]
  },
  {
   "cell_type": "code",
   "execution_count": 169,
   "metadata": {
    "collapsed": true
   },
   "outputs": [],
   "source": [
    "def which_relation(wv, rel_array, c1, c2):\n",
    "    rels = wv.to_vector(c1) @ rel_array @ wv.to_vector(c2)\n",
    "    return rels"
   ]
  },
  {
   "cell_type": "code",
   "execution_count": 179,
   "metadata": {
    "collapsed": false
   },
   "outputs": [
    {
     "data": {
      "text/plain": [
       "array([ 0.53547147,  0.21345697,  0.35622172,  0.13052309,  0.45284879,\n",
       "        0.31655305,  0.31637801,  0.41661863,  0.56749861,  0.72480974,\n",
       "        0.32813454])"
      ]
     },
     "execution_count": 179,
     "metadata": {},
     "output_type": "execute_result"
    }
   ],
   "source": [
    "which_relation(wv, rel_array, '/c/en/letter', '/c/en/word')"
   ]
  },
  {
   "cell_type": "code",
   "execution_count": 17,
   "metadata": {
    "collapsed": false
   },
   "outputs": [
    {
     "data": {
      "text/plain": [
       "[(0, '/r/Antonym'),\n",
       " (1, '/r/AtLocation'),\n",
       " (2, '/r/Causes'),\n",
       " (3, '/r/CausesDesire'),\n",
       " (4, '/r/DerivedFrom'),\n",
       " (5, '/r/HasProperty'),\n",
       " (6, '/r/HasSubevent'),\n",
       " (7, '/r/IsA'),\n",
       " (8, '/r/PartOf'),\n",
       " (9, '/r/RelatedTo'),\n",
       " (10, '/r/UsedFor')]"
      ]
     },
     "execution_count": 17,
     "metadata": {},
     "output_type": "execute_result"
    }
   ],
   "source": [
    "list(enumerate([rel[0] for rel in dense_rels]))"
   ]
  },
  {
   "cell_type": "code",
   "execution_count": 477,
   "metadata": {
    "collapsed": false
   },
   "outputs": [],
   "source": [
    "def analogy(wv, rel_array, c1, c2, c3, num=20):\n",
    "    rar = np.concatenate([rel_array, rel_array.swapaxes(1, 2)], axis=0)\n",
    "    \n",
    "    ratings = np.zeros(wv.vectors.shape[0])\n",
    "    for ca, cb in ((c2, c3), (c3, c2)):\n",
    "        rel = which_relation(wv, rar, c1, ca)\n",
    "        same_rel = np.maximum(0.5, which_relation(wv, rar, cb, cb))\n",
    "        best_rel = (rel / same_rel) ** 9\n",
    "        operator = (rar * best_rel[:, np.newaxis, np.newaxis]).sum(0)\n",
    "        target = wv.to_vector(cb) @ operator\n",
    "        ratings += wv.vectors @ target\n",
    "    sortorder = np.argsort(-ratings)\n",
    "    found = []\n",
    "    for idx in sortorder:\n",
    "        label = wv.labels[idx]\n",
    "        if en_filter(label) and label != c2 and label != c3:\n",
    "            found.append((label, ratings[idx]))\n",
    "        if len(found) >= num:\n",
    "            break\n",
    "    return found\n"
   ]
  },
  {
   "cell_type": "code",
   "execution_count": 501,
   "metadata": {
    "collapsed": false
   },
   "outputs": [
    {
     "data": {
      "text/plain": [
       "[('/c/en/puppy', 21.936010471151683),\n",
       " ('/c/en/cat', 20.422843053121952),\n",
       " ('/c/en/pet', 19.531495579070011),\n",
       " ('/c/en/canine', 19.328697002353998),\n",
       " ('/c/en/pup', 19.273126659081882),\n",
       " ('/c/en/terrier', 18.314838709627487),\n",
       " ('/c/en/poodle', 18.216671099693365),\n",
       " ('/c/en/doggie', 18.181523785641303),\n",
       " ('/c/en/beagle', 18.054378730096914),\n",
       " ('/c/en/rottweiler', 17.823817242483141),\n",
       " ('/c/en/schnauzer', 17.716251569476626),\n",
       " ('/c/en/spaniel', 17.625840970309778),\n",
       " ('/c/en/kennel', 17.396476218101352),\n",
       " ('/c/en/retriever', 17.362373721863889),\n",
       " ('/c/en/yorkie', 17.321505262508566),\n",
       " ('/c/en/dachshund', 17.069068702361346),\n",
       " ('/c/en/collie', 16.876915836395227),\n",
       " ('/c/en/feline', 16.797749911499739),\n",
       " ('/c/en/chihuahua', 16.747494185443543),\n",
       " ('/c/en/gsd', 16.571889944420484)]"
      ]
     },
     "execution_count": 501,
     "metadata": {},
     "output_type": "execute_result"
    }
   ],
   "source": [
    "analogy(glove, rel_array, '/c/en/cat', '/c/en/dog', '/c/en/kitten')"
   ]
  },
  {
   "cell_type": "code",
   "execution_count": 303,
   "metadata": {
    "collapsed": false
   },
   "outputs": [],
   "source": [
    "def analogy_3cosmul(wv, c1, c2, c3, num=20):\n",
    "    sims1 = (wv.vectors @ wv.to_vector(c1)) + 1.0001\n",
    "    sims2 = (wv.vectors @ wv.to_vector(c2)) + 1\n",
    "    sims3 = (wv.vectors @ wv.to_vector(c3)) + 1\n",
    "    ratings = sims2 * sims3 / (sims1)\n",
    "    sortorder = np.argsort(-ratings)\n",
    "    found = []\n",
    "    for idx in sortorder:\n",
    "        label = wv.labels[idx]\n",
    "        if en_filter(label):\n",
    "            found.append((label, ratings[idx]))\n",
    "        if len(found) >= num:\n",
    "            break\n",
    "    return found\n",
    "        "
   ]
  },
  {
   "cell_type": "code",
   "execution_count": 503,
   "metadata": {
    "collapsed": false
   },
   "outputs": [
    {
     "data": {
      "text/plain": [
       "[('/c/en/king', 2.0519619678841963),\n",
       " ('/c/en/prince', 1.7617301316265817),\n",
       " ('/c/en/queen', 1.7326554758001751),\n",
       " ('/c/en/majesty', 1.7267887562005186),\n",
       " ('/c/en/sir', 1.6724348154239195),\n",
       " ('/c/en/lord', 1.6718183010689365),\n",
       " ('/c/en/throne', 1.6092760871359157),\n",
       " ('/c/en/emperor', 1.5770273149086762),\n",
       " ('/c/en/lordship', 1.5750121823017913),\n",
       " ('/c/en/ahab', 1.5552792264572306),\n",
       " ('/c/en/baron', 1.5541194194476502),\n",
       " ('/c/en/kung', 1.5510370587103139),\n",
       " ('/c/en/pharaoh', 1.5401154582157763),\n",
       " ('/c/en/overlord', 1.5337673951320299),\n",
       " ('/c/en/earl', 1.5269535889089243),\n",
       " ('/c/en/ferdinand', 1.5260109678068334),\n",
       " ('/c/en/imperial', 1.5223958265205761),\n",
       " ('/c/en/master', 1.5180289705326266),\n",
       " ('/c/en/liege', 1.5100264028438328),\n",
       " ('/c/en/nobleman', 1.5088704034316329)]"
      ]
     },
     "execution_count": 503,
     "metadata": {},
     "output_type": "execute_result"
    }
   ],
   "source": [
    "analogy_3cosmul(glove, '/c/en/woman', '/c/en/man', '/c/en/queen')"
   ]
  },
  {
   "cell_type": "code",
   "execution_count": null,
   "metadata": {
    "collapsed": true
   },
   "outputs": [],
   "source": []
  }
 ],
 "metadata": {
  "kernelspec": {
   "display_name": "Python 3",
   "language": "python",
   "name": "python3"
  },
  "language_info": {
   "codemirror_mode": {
    "name": "ipython",
    "version": 3
   },
   "file_extension": ".py",
   "mimetype": "text/x-python",
   "name": "python",
   "nbconvert_exporter": "python",
   "pygments_lexer": "ipython3",
   "version": "3.5.0"
  }
 },
 "nbformat": 4,
 "nbformat_minor": 0
}
